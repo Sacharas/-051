{
 "cells": [
  {
   "cell_type": "code",
   "execution_count": null,
   "id": "b969a99a",
   "metadata": {},
   "outputs": [
    {
     "name": "stdout",
     "output_type": "stream",
     "text": [
      "Введите своё любимое число\n"
     ]
    }
   ],
   "source": [
    "print(\"Введите своё любимое число\")\n",
    "a=int(input())\n",
    "print (\"Спасибо\")"
   ]
  },
  {
   "cell_type": "code",
   "execution_count": 16,
   "id": "385f0862",
   "metadata": {},
   "outputs": [
    {
     "name": "stdout",
     "output_type": "stream",
     "text": [
      "3\n",
      "28\n",
      "53\n",
      "78\n"
     ]
    }
   ],
   "source": [
    "for i in range(3, 100, 25):\n",
    "    print(i)"
   ]
  },
  {
   "cell_type": "code",
   "execution_count": 17,
   "id": "c02f91a0",
   "metadata": {},
   "outputs": [
    {
     "name": "stdout",
     "output_type": "stream",
     "text": [
      "3 делится на 3, результат 1.\n",
      "6 делится на 3, результат 2.\n",
      "9 делится на 3, результат 3.\n",
      "12 делится на 3, результат 4.\n",
      "15 делится на 3, результат 5.\n"
     ]
    }
   ],
   "source": [
    "for i in range(3, 16, 3):\n",
    "    quotient = i / 3\n",
    "    print(f\"{i} делится на 3, результат {int(quotient)}.\")\n",
    "\n"
   ]
  },
  {
   "cell_type": "code",
   "execution_count": 19,
   "id": "3af75591",
   "metadata": {},
   "outputs": [
    {
     "name": "stdout",
     "output_type": "stream",
     "text": [
      "Введите положительное число 6\n"
     ]
    }
   ],
   "source": [
    "a=int(input(\"Введите положительное число \"))\n",
    "while a<0:\n",
    "    print(\"Это не положительное число \")"
   ]
  },
  {
   "cell_type": "code",
   "execution_count": null,
   "id": "4d4204f6",
   "metadata": {},
   "outputs": [],
   "source": []
  }
 ],
 "metadata": {
  "kernelspec": {
   "display_name": "Python 3 (ipykernel)",
   "language": "python",
   "name": "python3"
  },
  "language_info": {
   "codemirror_mode": {
    "name": "ipython",
    "version": 3
   },
   "file_extension": ".py",
   "mimetype": "text/x-python",
   "name": "python",
   "nbconvert_exporter": "python",
   "pygments_lexer": "ipython3",
   "version": "3.8.10"
  }
 },
 "nbformat": 4,
 "nbformat_minor": 5
}
